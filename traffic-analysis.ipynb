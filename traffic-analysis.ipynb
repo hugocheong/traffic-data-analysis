{
 "cells": [
  {
   "cell_type": "markdown",
   "id": "ef9f51f6-96a5-49b3-9136-fb6b21ba951f",
   "metadata": {},
   "source": [
    "# 1. Introduction"
   ]
  },
  {
   "cell_type": "markdown",
   "id": "2170a026-90b6-4233-b8e8-75046c4bcda3",
   "metadata": {},
   "source": [
    "In this study, we are analyzing the average annual daily traffic (AADT) for a section of road or highway. The goal is to understand how the predictors in the dataset influence the AADT and to develop a model that can predict traffic patterns based on these variables. The analysis involves data cleaning, exploratory data analysis, and statistical modeling to derive meaningful insights and conclusions."
   ]
  },
  {
   "cell_type": "markdown",
   "id": "43ef31d1-8500-41ee-b847-d3ad929c2cb3",
   "metadata": {},
   "source": [
    "# 2. Exploratory Data Analysis"
   ]
  },
  {
   "cell_type": "code",
   "execution_count": 34,
   "id": "d741f855-0ea5-40cf-8732-239f0aeb4a48",
   "metadata": {
    "vscode": {
     "languageId": "r"
    }
   },
   "outputs": [
    {
     "data": {
      "text/html": [
       "<table>\n",
       "<thead><tr><th scope=col>V1</th><th scope=col>V2</th><th scope=col>V3</th><th scope=col>V4</th><th scope=col>V5</th><th scope=col>V6</th><th scope=col>V7</th><th scope=col>V8</th></tr></thead>\n",
       "<tbody>\n",
       "\t<tr><td>1616 </td><td>13404</td><td>2    </td><td>52   </td><td>2    </td><td>2    </td><td>5    </td><td>1    </td></tr>\n",
       "\t<tr><td>1329 </td><td>52314</td><td>2    </td><td>60   </td><td>2    </td><td>2    </td><td>5    </td><td>1    </td></tr>\n",
       "\t<tr><td>3933 </td><td>30982</td><td>2    </td><td>57   </td><td>2    </td><td>4    </td><td>5    </td><td>2    </td></tr>\n",
       "\t<tr><td>3786 </td><td>25207</td><td>2    </td><td>64   </td><td>2    </td><td>4    </td><td>5    </td><td>2    </td></tr>\n",
       "\t<tr><td> 465 </td><td>20594</td><td>2    </td><td>40   </td><td>2    </td><td>2    </td><td>5    </td><td>1    </td></tr>\n",
       "\t<tr><td> 794 </td><td>11507</td><td>2    </td><td>44   </td><td>2    </td><td>2    </td><td>5    </td><td>1    </td></tr>\n",
       "</tbody>\n",
       "</table>\n"
      ],
      "text/latex": [
       "\\begin{tabular}{r|llllllll}\n",
       " V1 & V2 & V3 & V4 & V5 & V6 & V7 & V8\\\\\n",
       "\\hline\n",
       "\t 1616  & 13404 & 2     & 52    & 2     & 2     & 5     & 1    \\\\\n",
       "\t 1329  & 52314 & 2     & 60    & 2     & 2     & 5     & 1    \\\\\n",
       "\t 3933  & 30982 & 2     & 57    & 2     & 4     & 5     & 2    \\\\\n",
       "\t 3786  & 25207 & 2     & 64    & 2     & 4     & 5     & 2    \\\\\n",
       "\t  465  & 20594 & 2     & 40    & 2     & 2     & 5     & 1    \\\\\n",
       "\t  794  & 11507 & 2     & 44    & 2     & 2     & 5     & 1    \\\\\n",
       "\\end{tabular}\n"
      ],
      "text/markdown": [
       "\n",
       "| V1 | V2 | V3 | V4 | V5 | V6 | V7 | V8 |\n",
       "|---|---|---|---|---|---|---|---|\n",
       "| 1616  | 13404 | 2     | 52    | 2     | 2     | 5     | 1     |\n",
       "| 1329  | 52314 | 2     | 60    | 2     | 2     | 5     | 1     |\n",
       "| 3933  | 30982 | 2     | 57    | 2     | 4     | 5     | 2     |\n",
       "| 3786  | 25207 | 2     | 64    | 2     | 4     | 5     | 2     |\n",
       "|  465  | 20594 | 2     | 40    | 2     | 2     | 5     | 1     |\n",
       "|  794  | 11507 | 2     | 44    | 2     | 2     | 5     | 1     |\n",
       "\n"
      ],
      "text/plain": [
       "  V1   V2    V3 V4 V5 V6 V7 V8\n",
       "1 1616 13404 2  52 2  2  5  1 \n",
       "2 1329 52314 2  60 2  2  5  1 \n",
       "3 3933 30982 2  57 2  4  5  2 \n",
       "4 3786 25207 2  64 2  4  5  2 \n",
       "5  465 20594 2  40 2  2  5  1 \n",
       "6  794 11507 2  44 2  2  5  1 "
      ]
     },
     "metadata": {},
     "output_type": "display_data"
    }
   ],
   "source": [
    "# Import the data\n",
    "aadt_raw <- read.table(\"aadt.txt\", header = FALSE)\n",
    "\n",
    "# Display the first few rows\n",
    "head(aadt_raw)"
   ]
  },
  {
   "cell_type": "markdown",
   "id": "eb653a2a-5b22-40d0-9404-7c3b4b103726",
   "metadata": {},
   "source": [
    "In this study, we are interested in the average annual daily traffic (aadt) for a section of road or highway. We are only interested in the first five columns with the following definitions:  \n",
    "* V1: Average annual daily traffic (aadt) - Response variable, y  \n",
    "* V2: Population of county of which road section is located\n",
    "* V3: Number of lanes of road section\n",
    "* V4: Width of road section (in feet)\n",
    "* V5: Two-category quality variable indicating whether or not there is control of access to road section (1 = access control; 2 = no access control)"
   ]
  },
  {
   "cell_type": "markdown",
   "id": "9c4df45c-73bc-4850-a0b8-1e82553d068d",
   "metadata": {},
   "source": [
    "Hence, we have the following setup:\n",
    "$$ \\text{aadt} = \\beta_0 + \\beta_1 \\text{Population} + \\beta_2 \\text{Lanes} + \\beta_3 \\text{Width} + \\beta_4 \\text{Control}$$\n",
    "* Denote no access control in with 0 instead of 2."
   ]
  },
  {
   "cell_type": "code",
   "execution_count": 35,
   "id": "04923bb2-1357-4a04-a6ca-856b98dbe7c7",
   "metadata": {
    "vscode": {
     "languageId": "r"
    }
   },
   "outputs": [
    {
     "data": {
      "text/html": [
       "<table>\n",
       "<thead><tr><th scope=col>aadt</th><th scope=col>Population</th><th scope=col>Lanes</th><th scope=col>Width</th><th scope=col>Control</th></tr></thead>\n",
       "<tbody>\n",
       "\t<tr><td>1616 </td><td>13404</td><td>2    </td><td>52   </td><td>1    </td></tr>\n",
       "\t<tr><td>1329 </td><td>52314</td><td>2    </td><td>60   </td><td>1    </td></tr>\n",
       "\t<tr><td>3933 </td><td>30982</td><td>2    </td><td>57   </td><td>1    </td></tr>\n",
       "\t<tr><td>3786 </td><td>25207</td><td>2    </td><td>64   </td><td>1    </td></tr>\n",
       "\t<tr><td> 465 </td><td>20594</td><td>2    </td><td>40   </td><td>1    </td></tr>\n",
       "\t<tr><td> 794 </td><td>11507</td><td>2    </td><td>44   </td><td>1    </td></tr>\n",
       "</tbody>\n",
       "</table>\n"
      ],
      "text/latex": [
       "\\begin{tabular}{r|lllll}\n",
       " aadt & Population & Lanes & Width & Control\\\\\n",
       "\\hline\n",
       "\t 1616  & 13404 & 2     & 52    & 1    \\\\\n",
       "\t 1329  & 52314 & 2     & 60    & 1    \\\\\n",
       "\t 3933  & 30982 & 2     & 57    & 1    \\\\\n",
       "\t 3786  & 25207 & 2     & 64    & 1    \\\\\n",
       "\t  465  & 20594 & 2     & 40    & 1    \\\\\n",
       "\t  794  & 11507 & 2     & 44    & 1    \\\\\n",
       "\\end{tabular}\n"
      ],
      "text/markdown": [
       "\n",
       "| aadt | Population | Lanes | Width | Control |\n",
       "|---|---|---|---|---|\n",
       "| 1616  | 13404 | 2     | 52    | 1     |\n",
       "| 1329  | 52314 | 2     | 60    | 1     |\n",
       "| 3933  | 30982 | 2     | 57    | 1     |\n",
       "| 3786  | 25207 | 2     | 64    | 1     |\n",
       "|  465  | 20594 | 2     | 40    | 1     |\n",
       "|  794  | 11507 | 2     | 44    | 1     |\n",
       "\n"
      ],
      "text/plain": [
       "  aadt Population Lanes Width Control\n",
       "1 1616 13404      2     52    1      \n",
       "2 1329 52314      2     60    1      \n",
       "3 3933 30982      2     57    1      \n",
       "4 3786 25207      2     64    1      \n",
       "5  465 20594      2     40    1      \n",
       "6  794 11507      2     44    1      "
      ]
     },
     "metadata": {},
     "output_type": "display_data"
    }
   ],
   "source": [
    "aadt <- data.frame(aadt = aadt_raw$V1, Population = aadt_raw$V2, Lanes = aadt_raw$V3, Width = aadt_raw$V4, Control = aadt_raw$V5)\n",
    "aadt$Control[aadt$Control == 1] <- 0\n",
    "aadt$Control[aadt$Control == 2] <- 1\n",
    "head(aadt)"
   ]
  },
  {
   "cell_type": "code",
   "execution_count": 36,
   "id": "d31dea41",
   "metadata": {
    "vscode": {
     "languageId": "r"
    }
   },
   "outputs": [
    {
     "data": {
      "text/html": [
       "<ol class=list-inline>\n",
       "\t<li>121</li>\n",
       "\t<li>5</li>\n",
       "</ol>\n"
      ],
      "text/latex": [
       "\\begin{enumerate*}\n",
       "\\item 121\n",
       "\\item 5\n",
       "\\end{enumerate*}\n"
      ],
      "text/markdown": [
       "1. 121\n",
       "2. 5\n",
       "\n",
       "\n"
      ],
      "text/plain": [
       "[1] 121   5"
      ]
     },
     "metadata": {},
     "output_type": "display_data"
    }
   ],
   "source": [
    "# Display the dimensions of the data\n",
    "dim(aadt)"
   ]
  },
  {
   "cell_type": "code",
   "execution_count": 37,
   "id": "675fd758",
   "metadata": {
    "vscode": {
     "languageId": "r"
    }
   },
   "outputs": [
    {
     "data": {
      "text/html": [
       "0"
      ],
      "text/latex": [
       "0"
      ],
      "text/markdown": [
       "0"
      ],
      "text/plain": [
       "[1] 0"
      ]
     },
     "metadata": {},
     "output_type": "display_data"
    }
   ],
   "source": [
    "# Check for missing values\n",
    "sum(is.na(aadt))"
   ]
  },
  {
   "cell_type": "code",
   "execution_count": 38,
   "id": "77b5239d",
   "metadata": {
    "vscode": {
     "languageId": "r"
    }
   },
   "outputs": [
    {
     "data": {
      "text/html": [
       "<ol class=list-inline>\n",
       "\t<li>121</li>\n",
       "\t<li>5</li>\n",
       "</ol>\n"
      ],
      "text/latex": [
       "\\begin{enumerate*}\n",
       "\\item 121\n",
       "\\item 5\n",
       "\\end{enumerate*}\n"
      ],
      "text/markdown": [
       "1. 121\n",
       "2. 5\n",
       "\n",
       "\n"
      ],
      "text/plain": [
       "[1] 121   5"
      ]
     },
     "metadata": {},
     "output_type": "display_data"
    }
   ],
   "source": [
    "dim(aadt)"
   ]
  },
  {
   "cell_type": "code",
   "execution_count": 39,
   "id": "a24c1f18-2d21-46c4-90a8-41069c94d76a",
   "metadata": {
    "vscode": {
     "languageId": "r"
    }
   },
   "outputs": [
    {
     "data": {
      "text/plain": [
       "      aadt          Population         Lanes           Width      \n",
       " Min.   :   201   Min.   :  7716   Min.   :2.000   Min.   :19.00  \n",
       " 1st Qu.:  1769   1st Qu.: 25717   1st Qu.:2.000   1st Qu.:24.00  \n",
       " Median :  8666   Median :113571   Median :2.000   Median :24.00  \n",
       " Mean   : 19438   Mean   :263428   Mean   :3.099   Mean   :31.12  \n",
       " 3rd Qu.: 21535   3rd Qu.:459784   3rd Qu.:4.000   3rd Qu.:38.00  \n",
       " Max.   :155547   Max.   :941411   Max.   :8.000   Max.   :68.00  \n",
       "    Control      \n",
       " Min.   :0.0000  \n",
       " 1st Qu.:1.0000  \n",
       " Median :1.0000  \n",
       " Mean   :0.7769  \n",
       " 3rd Qu.:1.0000  \n",
       " Max.   :1.0000  "
      ]
     },
     "metadata": {},
     "output_type": "display_data"
    }
   ],
   "source": [
    "summary(aadt)"
   ]
  },
  {
   "cell_type": "code",
   "execution_count": 40,
   "id": "a5194fdf-34c5-4b39-b326-ca4b4683e902",
   "metadata": {
    "vscode": {
     "languageId": "r"
    }
   },
   "outputs": [
    {
     "data": {
      "image/png": "[encoded data removed]",
      "text/plain": [
       "plot without title"
      ]
     },
     "metadata": {},
     "output_type": "display_data"
    }
   ],
   "source": [
    "# Graphical representation of data\n",
    "plot(aadt)"
   ]
  },
  {
   "cell_type": "code",
   "execution_count": 41,
   "id": "ffcc49be-a6ce-4855-b3e0-addf213f0b78",
   "metadata": {
    "vscode": {
     "languageId": "r"
    }
   },
   "outputs": [
    {
     "data": {
      "image/png": "[encoded data removed]",
      "text/plain": [
       "Plot with title \"\""
      ]
     },
     "metadata": {},
     "output_type": "display_data"
    }
   ],
   "source": [
    "# Create correlation matrix\n",
    "library(corrplot)\n",
    "corrplot(cor(aadt), type = \"upper\", method = \"color\", addCoef.col = \"black\")"
   ]
  },
  {
   "cell_type": "markdown",
   "id": "c60628b7-bc58-4afb-b8e0-750c1f0d41f8",
   "metadata": {},
   "source": [
    "Based on the correlation matrix, it shows that `aadt` has a good correlation relationship with predictors `Population`, `Lanes`, and `Control`."
   ]
  },
  {
   "cell_type": "markdown",
   "id": "25e3a4f6-c86e-47af-87aa-d7ca084869e1",
   "metadata": {},
   "source": [
    "# 3. Regression Model Formulation"
   ]
  },
  {
   "cell_type": "code",
   "execution_count": 42,
   "id": "a4701c46-f7de-423e-b15d-56d03e925da7",
   "metadata": {
    "vscode": {
     "languageId": "r"
    }
   },
   "outputs": [
    {
     "data": {
      "text/plain": [
       "\n",
       "Call:\n",
       "lm(formula = aadt ~ Population + Lanes + Width + Control, data = aadt)\n",
       "\n",
       "Residuals:\n",
       "   Min     1Q Median     3Q    Max \n",
       "-36263  -8501   3493   6018  68317 \n",
       "\n",
       "Coefficients:\n",
       "              Estimate Std. Error t value Pr(>|t|)    \n",
       "(Intercept) -2.425e+03  7.812e+03  -0.310    0.757    \n",
       "Population   3.303e-02  4.708e-03   7.017 1.63e-10 ***\n",
       "Lanes        9.158e+03  1.531e+03   5.983 2.49e-08 ***\n",
       "Width        1.003e+02  1.243e+02   0.807    0.421    \n",
       "Control     -2.361e+04  4.520e+03  -5.223 7.83e-07 ***\n",
       "---\n",
       "Signif. codes:  0 '***' 0.001 '**' 0.01 '*' 0.05 '.' 0.1 ' ' 1\n",
       "\n",
       "Residual standard error: 15290 on 116 degrees of freedom\n",
       "Multiple R-squared:  0.7527,\tAdjusted R-squared:  0.7442 \n",
       "F-statistic: 88.29 on 4 and 116 DF,  p-value: < 2.2e-16\n"
      ]
     },
     "metadata": {},
     "output_type": "display_data"
    }
   ],
   "source": [
    "mlr <- lm(aadt ~ Population + Lanes + Width + Control, data = aadt)\n",
    "summary(mlr)"
   ]
  },
  {
   "cell_type": "markdown",
   "id": "251122a7-fb8b-4bae-ab58-288dd30347ff",
   "metadata": {},
   "source": [
    "# 4. Adequacy Checking"
   ]
  },
  {
   "cell_type": "markdown",
   "id": "9db1155d-d334-476c-815e-03f501527ad5",
   "metadata": {},
   "source": [
    "## 4.1 Fitted Model\n",
    "\n",
    "We investigate the t-values, F-statistic and R-squared statistic."
   ]
  },
  {
   "cell_type": "markdown",
   "id": "60a5a78f-3c77-4f27-8f9d-709812ce2426",
   "metadata": {},
   "source": [
    "* **t-tests**: We use this to determine the significance of the fitted parameters and formulate the following null hypotheses.\n",
    "    + $H_0: \\beta_0 = 0 $\n",
    "    + $H_1: \\beta_1 = 0 $\n",
    "    + $H_2: \\beta_2 = 0 $\n",
    "    + $H_3: \\beta_3 = 0 $\n",
    "    + $H_4: \\beta_4 = 0 $  \n",
    "\n",
    "    Since $Pr(>|t|)$ of `Width` is greater than 0.05 at 95% significance lvel, we cannot reject $H_3$ and conclude `Width` is statistically insignificant in this model.\n",
    "* **F-ratio and R-squared**:  \n",
    "  The model has a R-squared value of 0.7527, which means our model explains 75.27% of the variability in the response variable. This indicates a fairly good fit as the model explains a substantial amount of variance.\n",
    "  "
   ]
  },
  {
   "cell_type": "markdown",
   "id": "4cc04896-41df-460a-8606-74f98d2a164a",
   "metadata": {},
   "source": [
    "## 4.2 Residuals\n",
    "\n",
    "We try to obtain more information to improve the model's adequacy by investigating the residuals. Those methods include:  \n",
    "* Normality checking;  \n",
    "* Checking for time effects if the time order of the data is known, for non-constant variance to see whether we need take transformation on response, and for curvature of higher order than fitted in the predictors;  \n",
    "* Checking for the sequential dependence of the estimated residuals."
   ]
  },
  {
   "cell_type": "markdown",
   "id": "a50205f5-9fd2-4e60-ac5e-57478e91f8d9",
   "metadata": {},
   "source": [
    "### 4.2.1 Normality"
   ]
  },
  {
   "cell_type": "code",
   "execution_count": 43,
   "id": "c1388266-d2da-4646-b1b7-b0dd56b4bf6d",
   "metadata": {
    "vscode": {
     "languageId": "r"
    }
   },
   "outputs": [
    {
     "data": {
      "image/png": "[encoded data removed]",
      "text/plain": [
       "Plot with title \"Normal Q-Q Plot\""
      ]
     },
     "metadata": {},
     "output_type": "display_data"
    }
   ],
   "source": [
    "qqnorm(residuals(mlr), ylab = \"Residuals\")\n",
    "qqline(residuals(mlr))"
   ]
  },
  {
   "cell_type": "markdown",
   "id": "131351c2-8d1f-47b7-8bb1-5bee566f1c54",
   "metadata": {},
   "source": [
    "### 4.2.2 Time effects, non-constant variance and higher order curvatures\n",
    "In those plots, we put the residuals $\\hat{e_i}$ to the Y-axis, and then put the following variables to X-axis in turn: \n",
    "* The time order of the data, if known; \n",
    "* The fitted values $\\hat{y_i}$; \n",
    "* The predictor variable $x_i$. If there are more than one predictor variables, we plot them individually."
   ]
  },
  {
   "cell_type": "code",
   "execution_count": 44,
   "id": "a7569d9b-471c-439b-a5e0-aad48abf1cb8",
   "metadata": {
    "vscode": {
     "languageId": "r"
    }
   },
   "outputs": [
    {
     "data": {
      "image/png": "[encoded data removed]",
      "text/plain": [
       "plot without title"
      ]
     },
     "metadata": {},
     "output_type": "display_data"
    }
   ],
   "source": [
    "par(mfrow = c(2, 3))\n",
    "plot(residuals(mlr), ylab = \"Residuals\", xlab = \"Time\")\n",
    "plot(residuals(mlr), fitted(mlr), ylab = \"Residuals\", xlab = \"Fitted values\")\n",
    "plot(residuals(mlr), aadt$x1, ylab = \"Residuals\", xlab = \"x1\")\n",
    "plot(residuals(mlr), aadt$x2, ylab = \"Residuals\", xlab = \"x2\")\n",
    "plot(residuals(mlr), aadt$x3, ylab = \"Residuals\", xlab = \"x3\")\n",
    "plot(residuals(mlr), aadt$x4, ylab = \"Residuals\", xlab = \"x4\")"
   ]
  },
  {
   "cell_type": "markdown",
   "id": "9b1ba929-2449-4626-9a4e-bb7e10eaf2fd",
   "metadata": {},
   "source": [
    "The plot of fitted values against residuals exhibit unsatisfactory residual behavior (non-constant variances). All the other plots have horizontal bands of points and hence contain no useful information in the residuals."
   ]
  },
  {
   "cell_type": "markdown",
   "id": "99de995b-c0a6-4cf9-aa86-7c6db066369c",
   "metadata": {},
   "source": [
    "### 4.2.3 Sequential Dependence\n",
    "Durbin-Watson test is used to check fro sequential dependence, and the test statistic is $$d = \\frac{\\sum^{n}_{u = 2} \\left(e_u - e_{u-1}\\right)^2 }{\\sum_{u = 1}^{n} e^2_u}$$ and has the following properties:\n",
    "* $0 \\leq d \\leq 4$\n",
    "* The distribution of $d$ is symmetric about 2.\n",
    "* If $d$ is near to 0, then successive residuals is **positively** serially correlated.\n",
    "* If $d$ is near to 4, then successive residuals is **negatively** serially correlated."
   ]
  },
  {
   "cell_type": "code",
   "execution_count": 45,
   "id": "26896874-f9cf-4c41-bd22-c7423d0272c0",
   "metadata": {
    "vscode": {
     "languageId": "r"
    }
   },
   "outputs": [
    {
     "data": {
      "text/plain": [
       "\n",
       "\tDurbin-Watson test\n",
       "\n",
       "data:  mlr\n",
       "DW = 1.3137, p-value = 3.101e-05\n",
       "alternative hypothesis: true autocorrelation is greater than 0\n"
      ]
     },
     "metadata": {},
     "output_type": "display_data"
    }
   ],
   "source": [
    "library(lmtest)\n",
    "dwtest(mlr)"
   ]
  },
  {
   "cell_type": "markdown",
   "id": "d5e4b251-e086-49a3-8b36-b3d54175e71a",
   "metadata": {},
   "source": [
    "$DW = 1.3137$ is near to 0, which implies that successive residuals are positively serially correlated."
   ]
  },
  {
   "cell_type": "markdown",
   "id": "8f574744",
   "metadata": {},
   "source": [
    "# 5. F-test for reduced model and full model"
   ]
  },
  {
   "cell_type": "markdown",
   "id": "4f7123f6",
   "metadata": {},
   "source": [
    "## 5.1 Test if some coefficients are zeros\n",
    "\n",
    "We saw that the predictor `Width` is not significant, i.e. they may equal to zero. Hence, we may want to test the following hypothesis:\n",
    "$$ H_0: \\beta_3 = 0 $$ "
   ]
  },
  {
   "cell_type": "code",
   "execution_count": 46,
   "id": "caadf272",
   "metadata": {
    "vscode": {
     "languageId": "r"
    }
   },
   "outputs": [
    {
     "data": {
      "text/plain": [
       "\n",
       "Call:\n",
       "lm(formula = aadt ~ Population + Lanes + Control, data = aadt)\n",
       "\n",
       "Residuals:\n",
       "   Min     1Q Median     3Q    Max \n",
       "-35593  -7883   4010   5770  68441 \n",
       "\n",
       "Coefficients:\n",
       "              Estimate Std. Error t value Pr(>|t|)    \n",
       "(Intercept) -3.487e+02  7.365e+03  -0.047    0.962    \n",
       "Population   3.356e-02  4.655e-03   7.211 5.93e-11 ***\n",
       "Lanes        9.310e+03  1.517e+03   6.138 1.18e-08 ***\n",
       "Control     -2.305e+04  4.460e+03  -5.168 9.85e-07 ***\n",
       "---\n",
       "Signif. codes:  0 '***' 0.001 '**' 0.01 '*' 0.05 '.' 0.1 ' ' 1\n",
       "\n",
       "Residual standard error: 15270 on 117 degrees of freedom\n",
       "Multiple R-squared:  0.7514,\tAdjusted R-squared:  0.745 \n",
       "F-statistic: 117.8 on 3 and 117 DF,  p-value: < 2.2e-16\n"
      ]
     },
     "metadata": {},
     "output_type": "display_data"
    },
    {
     "data": {
      "text/html": [
       "<table>\n",
       "<thead><tr><th scope=col>Res.Df</th><th scope=col>RSS</th><th scope=col>Df</th><th scope=col>Sum of Sq</th><th scope=col>F</th><th scope=col>Pr(&gt;F)</th></tr></thead>\n",
       "<tbody>\n",
       "\t<tr><td>117        </td><td>27280535046</td><td>NA         </td><td>       NA  </td><td>       NA  </td><td>       NA  </td></tr>\n",
       "\t<tr><td>116        </td><td>27128232453</td><td> 1         </td><td>152302593  </td><td>0.6512441  </td><td>0.4213198  </td></tr>\n",
       "</tbody>\n",
       "</table>\n"
      ],
      "text/latex": [
       "\\begin{tabular}{r|llllll}\n",
       " Res.Df & RSS & Df & Sum of Sq & F & Pr(>F)\\\\\n",
       "\\hline\n",
       "\t 117         & 27280535046 & NA          &        NA   &        NA   &        NA  \\\\\n",
       "\t 116         & 27128232453 &  1          & 152302593   & 0.6512441   & 0.4213198  \\\\\n",
       "\\end{tabular}\n"
      ],
      "text/markdown": [
       "\n",
       "| Res.Df | RSS | Df | Sum of Sq | F | Pr(>F) |\n",
       "|---|---|---|---|---|---|\n",
       "| 117         | 27280535046 | NA          |        NA   |        NA   |        NA   |\n",
       "| 116         | 27128232453 |  1          | 152302593   | 0.6512441   | 0.4213198   |\n",
       "\n"
      ],
      "text/plain": [
       "  Res.Df RSS         Df Sum of Sq F         Pr(>F)   \n",
       "1 117    27280535046 NA        NA        NA        NA\n",
       "2 116    27128232453  1 152302593 0.6512441 0.4213198"
      ]
     },
     "metadata": {},
     "output_type": "display_data"
    }
   ],
   "source": [
    "# ANOVA with `Width` dropped\n",
    "mlr_dropped <- lm(aadt ~ Population + Lanes + Control, data = aadt)\n",
    "summary(mlr_dropped)\n",
    "anova(mlr_dropped, mlr)"
   ]
  },
  {
   "cell_type": "markdown",
   "id": "4ab6097a",
   "metadata": {},
   "source": [
    "$p\\text{-value}$ is greater than 0.05 so we cannot reject $H_0$ at 95% significance level."
   ]
  },
  {
   "cell_type": "markdown",
   "id": "cdf41176",
   "metadata": {},
   "source": [
    "## 5.2 Test for more complicated relationship"
   ]
  },
  {
   "cell_type": "markdown",
   "id": "fe51cbbc",
   "metadata": {},
   "source": [
    "### 5.2.1 Test for interaction terms\n",
    "\n",
    "From the correlation matrix, we see that `Lanes` and `Control` has a high correlation coefficient so we test with their interaction."
   ]
  },
  {
   "cell_type": "code",
   "execution_count": 47,
   "id": "58a199b0",
   "metadata": {
    "vscode": {
     "languageId": "r"
    }
   },
   "outputs": [
    {
     "data": {
      "text/plain": [
       "\n",
       "Call:\n",
       "lm(formula = aadt ~ Population + Lanes + Control + Width + I(Population * \n",
       "    Lanes) + I(Lanes * Control), data = aadt)\n",
       "\n",
       "Residuals:\n",
       "   Min     1Q Median     3Q    Max \n",
       "-33324  -3102  -1104   3368  33091 \n",
       "\n",
       "Coefficients:\n",
       "                        Estimate Std. Error t value Pr(>|t|)    \n",
       "(Intercept)           -2.033e+04  1.080e+04  -1.882 0.062450 .  \n",
       "Population            -3.553e-02  9.610e-03  -3.697 0.000337 ***\n",
       "Lanes                  1.114e+04  2.524e+03   4.414 2.31e-05 ***\n",
       "Control                2.479e+04  1.065e+04   2.327 0.021757 *  \n",
       "Width                 -4.599e+01  8.621e+01  -0.533 0.594772    \n",
       "I(Population * Lanes)  1.966e-02  2.590e-03   7.589 9.54e-12 ***\n",
       "I(Lanes * Control)    -1.110e+04  2.478e+03  -4.480 1.78e-05 ***\n",
       "---\n",
       "Signif. codes:  0 '***' 0.001 '**' 0.01 '*' 0.05 '.' 0.1 ' ' 1\n",
       "\n",
       "Residual standard error: 10450 on 114 degrees of freedom\n",
       "Multiple R-squared:  0.8865,\tAdjusted R-squared:  0.8805 \n",
       "F-statistic: 148.3 on 6 and 114 DF,  p-value: < 2.2e-16\n"
      ]
     },
     "metadata": {},
     "output_type": "display_data"
    },
    {
     "data": {
      "text/html": [
       "<table>\n",
       "<thead><tr><th scope=col>Res.Df</th><th scope=col>RSS</th><th scope=col>Df</th><th scope=col>Sum of Sq</th><th scope=col>F</th><th scope=col>Pr(&gt;F)</th></tr></thead>\n",
       "<tbody>\n",
       "\t<tr><td>114         </td><td>12457303855 </td><td>NA          </td><td>          NA</td><td>      NA    </td><td>         NA </td></tr>\n",
       "\t<tr><td>116         </td><td>27128232453 </td><td>-2          </td><td>-14670928598</td><td>67.12873    </td><td>5.42183e-20 </td></tr>\n",
       "</tbody>\n",
       "</table>\n"
      ],
      "text/latex": [
       "\\begin{tabular}{r|llllll}\n",
       " Res.Df & RSS & Df & Sum of Sq & F & Pr(>F)\\\\\n",
       "\\hline\n",
       "\t 114          & 12457303855  & NA           &           NA &       NA     &          NA \\\\\n",
       "\t 116          & 27128232453  & -2           & -14670928598 & 67.12873     & 5.42183e-20 \\\\\n",
       "\\end{tabular}\n"
      ],
      "text/markdown": [
       "\n",
       "| Res.Df | RSS | Df | Sum of Sq | F | Pr(>F) |\n",
       "|---|---|---|---|---|---|\n",
       "| 114          | 12457303855  | NA           |           NA |       NA     |          NA  |\n",
       "| 116          | 27128232453  | -2           | -14670928598 | 67.12873     | 5.42183e-20  |\n",
       "\n"
      ],
      "text/plain": [
       "  Res.Df RSS         Df Sum of Sq    F        Pr(>F)     \n",
       "1 114    12457303855 NA           NA       NA          NA\n",
       "2 116    27128232453 -2 -14670928598 67.12873 5.42183e-20"
      ]
     },
     "metadata": {},
     "output_type": "display_data"
    }
   ],
   "source": [
    "# Interaction term between `Population` and `Lanes`\n",
    "mlr_interaction <- lm(aadt ~ Population + Lanes + Control + Width + I(Population * Lanes) + I(Lanes * Control), data = aadt)\n",
    "summary(mlr_interaction)\n",
    "anova(mlr_interaction, mlr)"
   ]
  },
  {
   "cell_type": "markdown",
   "id": "87734165",
   "metadata": {},
   "source": [
    "The model is significant as the $p\\text{-value}$ is much smaller than 0.05."
   ]
  },
  {
   "cell_type": "markdown",
   "id": "67f76353",
   "metadata": {},
   "source": [
    "## 5.2 Test for more complicated relationships\n",
    "We can apply transformations to the model to improve the R-squared value.  \n",
    "Since the `anova()` function is limited to nested model comparisons, we will instead use \n",
    "* **Akaike Information Criterion (AIC)** - which estimates the model's ability to predict future values, and \n",
    "* **Bayesian Information Criterion (BIC)** - which balances model fit and complexity.  \n",
    "\n",
    "A lower AIC or BIC value simply means a better fit."
   ]
  },
  {
   "cell_type": "markdown",
   "id": "4860a382",
   "metadata": {},
   "source": [
    "### 5.2.1 Log transformation"
   ]
  },
  {
   "cell_type": "code",
   "execution_count": 48,
   "id": "ee20d058",
   "metadata": {
    "vscode": {
     "languageId": "r"
    }
   },
   "outputs": [
    {
     "data": {
      "text/plain": [
       "\n",
       "Call:\n",
       "lm(formula = log(aadt) ~ Population + Lanes + Width + Control, \n",
       "    data = aadt)\n",
       "\n",
       "Residuals:\n",
       "     Min       1Q   Median       3Q      Max \n",
       "-2.31522 -0.46112  0.00963  0.59348  1.86778 \n",
       "\n",
       "Coefficients:\n",
       "              Estimate Std. Error t value Pr(>|t|)    \n",
       "(Intercept)  6.689e+00  4.203e-01  15.914  < 2e-16 ***\n",
       "Population   1.528e-06  2.533e-07   6.034 1.96e-08 ***\n",
       "Lanes        6.852e-01  8.234e-02   8.321 1.93e-13 ***\n",
       "Width        2.501e-03  6.686e-03   0.374   0.7091    \n",
       "Control     -6.145e-01  2.432e-01  -2.527   0.0129 *  \n",
       "---\n",
       "Signif. codes:  0 '***' 0.001 '**' 0.01 '*' 0.05 '.' 0.1 ' ' 1\n",
       "\n",
       "Residual standard error: 0.8227 on 116 degrees of freedom\n",
       "Multiple R-squared:  0.7411,\tAdjusted R-squared:  0.7321 \n",
       "F-statistic: 82.99 on 4 and 116 DF,  p-value: < 2.2e-16\n"
      ]
     },
     "metadata": {},
     "output_type": "display_data"
    }
   ],
   "source": [
    "# Log transformation of the response variable\n",
    "mlr_log <- lm(log(aadt) ~ Population + Lanes + Width + Control, data = aadt)\n",
    "summary(mlr_log)"
   ]
  },
  {
   "cell_type": "markdown",
   "id": "9c4c5e71",
   "metadata": {
    "vscode": {
     "languageId": "r"
    }
   },
   "source": [
    "### 5.2.2 Square root transformation"
   ]
  },
  {
   "cell_type": "code",
   "execution_count": 49,
   "id": "addf17ec",
   "metadata": {
    "vscode": {
     "languageId": "r"
    }
   },
   "outputs": [
    {
     "data": {
      "text/plain": [
       "\n",
       "Call:\n",
       "lm(formula = sqrt(aadt) ~ Population + Lanes + Width + Control, \n",
       "    data = aadt)\n",
       "\n",
       "Residuals:\n",
       "   Min     1Q Median     3Q    Max \n",
       "-97.36 -17.34  -1.46  18.59  85.66 \n",
       "\n",
       "Coefficients:\n",
       "              Estimate Std. Error t value Pr(>|t|)    \n",
       "(Intercept)  2.472e+01  1.685e+01   1.467    0.145    \n",
       "Population   9.505e-05  1.015e-05   9.361 7.47e-16 ***\n",
       "Lanes        3.265e+01  3.301e+00   9.889  < 2e-16 ***\n",
       "Width        1.401e-01  2.680e-01   0.523    0.602    \n",
       "Control     -5.800e+01  9.750e+00  -5.949 2.93e-08 ***\n",
       "---\n",
       "Signif. codes:  0 '***' 0.001 '**' 0.01 '*' 0.05 '.' 0.1 ' ' 1\n",
       "\n",
       "Residual standard error: 32.98 on 116 degrees of freedom\n",
       "Multiple R-squared:  0.8568,\tAdjusted R-squared:  0.8519 \n",
       "F-statistic: 173.5 on 4 and 116 DF,  p-value: < 2.2e-16\n"
      ]
     },
     "metadata": {},
     "output_type": "display_data"
    }
   ],
   "source": [
    "# Square root transformation of the response variable\n",
    "mlr_sqrt <- lm(sqrt(aadt) ~ Population + Lanes + Width + Control, data = aadt)\n",
    "summary(mlr_sqrt)"
   ]
  },
  {
   "cell_type": "markdown",
   "id": "60050818",
   "metadata": {
    "vscode": {
     "languageId": "r"
    }
   },
   "source": [
    "### 5.2.3 Inverse transformation"
   ]
  },
  {
   "cell_type": "code",
   "execution_count": 50,
   "id": "96118db8",
   "metadata": {
    "vscode": {
     "languageId": "r"
    }
   },
   "outputs": [
    {
     "data": {
      "text/plain": [
       "\n",
       "Call:\n",
       "lm(formula = 1/aadt ~ Population + Lanes + Width + Control, data = aadt)\n",
       "\n",
       "Residuals:\n",
       "       Min         1Q     Median         3Q        Max \n",
       "-0.0007323 -0.0003071 -0.0001889  0.0001181  0.0041466 \n",
       "\n",
       "Coefficients:\n",
       "              Estimate Std. Error t value Pr(>|t|)    \n",
       "(Intercept)  1.351e-03  3.286e-04   4.112 7.37e-05 ***\n",
       "Population  -3.670e-10  1.980e-10  -1.853  0.06635 .  \n",
       "Lanes       -2.126e-04  6.438e-05  -3.303  0.00127 ** \n",
       "Width       -5.233e-06  5.227e-06  -1.001  0.31885    \n",
       "Control      2.321e-05  1.901e-04   0.122  0.90306    \n",
       "---\n",
       "Signif. codes:  0 '***' 0.001 '**' 0.01 '*' 0.05 '.' 0.1 ' ' 1\n",
       "\n",
       "Residual standard error: 0.0006433 on 116 degrees of freedom\n",
       "Multiple R-squared:  0.2489,\tAdjusted R-squared:  0.223 \n",
       "F-statistic:  9.61 on 4 and 116 DF,  p-value: 9.524e-07\n"
      ]
     },
     "metadata": {},
     "output_type": "display_data"
    }
   ],
   "source": [
    "# Inverse transformation\n",
    "mlr_inv <- lm(1/aadt ~ Population + Lanes + Width + Control, data = aadt)\n",
    "summary(mlr_inv)"
   ]
  },
  {
   "cell_type": "code",
   "execution_count": 51,
   "id": "bbc29c42",
   "metadata": {
    "vscode": {
     "languageId": "r"
    }
   },
   "outputs": [
    {
     "data": {
      "text/plain": [
       "\n",
       "Call:\n",
       "lm(formula = log(aadt) ~ log(Population) + Lanes + Control + \n",
       "    I(log(Population) * Lanes) + I(log(Population) * Control) + \n",
       "    I(Lanes * Control), data = aadt)\n",
       "\n",
       "Residuals:\n",
       "    Min      1Q  Median      3Q     Max \n",
       "-2.3770 -0.3640  0.1085  0.4045  2.1209 \n",
       "\n",
       "Coefficients:\n",
       "                             Estimate Std. Error t value Pr(>|t|)   \n",
       "(Intercept)                  -0.47154    3.42592  -0.138  0.89077   \n",
       "log(Population)               0.79555    0.27144   2.931  0.00409 **\n",
       "Lanes                         1.04759    0.74700   1.402  0.16351   \n",
       "Control                       0.01101    2.06469   0.005  0.99576   \n",
       "I(log(Population) * Lanes)   -0.06230    0.05669  -1.099  0.27406   \n",
       "I(log(Population) * Control) -0.19479    0.16317  -1.194  0.23505   \n",
       "I(Lanes * Control)            0.41041    0.17308   2.371  0.01941 * \n",
       "---\n",
       "Signif. codes:  0 '***' 0.001 '**' 0.01 '*' 0.05 '.' 0.1 ' ' 1\n",
       "\n",
       "Residual standard error: 0.7009 on 114 degrees of freedom\n",
       "Multiple R-squared:  0.8153,\tAdjusted R-squared:  0.8056 \n",
       "F-statistic: 83.86 on 6 and 114 DF,  p-value: < 2.2e-16\n"
      ]
     },
     "metadata": {},
     "output_type": "display_data"
    }
   ],
   "source": [
    "mlr4 <- lm(log(aadt) ~ log(Population) + Lanes + Control + I(log(Population) * Lanes) + I(log(Population) * Control) + I(Lanes * Control), data = aadt)\n",
    "summary(mlr4)"
   ]
  },
  {
   "cell_type": "code",
   "execution_count": 52,
   "id": "39c5bdde",
   "metadata": {
    "vscode": {
     "languageId": "r"
    }
   },
   "outputs": [
    {
     "data": {
      "text/html": [
       "<table>\n",
       "<thead><tr><th scope=col>Model</th><th scope=col>AIC</th><th scope=col>BIC</th><th scope=col>R_squared</th></tr></thead>\n",
       "<tbody>\n",
       "\t<tr><td>Full         </td><td> 2681.9772   </td><td> 2698.7520   </td><td>0.7527409    </td></tr>\n",
       "\t<tr><td>Dropped Width</td><td> 2680.6546   </td><td> 2694.6336   </td><td>0.7513528    </td></tr>\n",
       "\t<tr><td>Interaction  </td><td> 2591.8068   </td><td> 2614.1731   </td><td>0.8864585    </td></tr>\n",
       "\t<tr><td>Log          </td><td>  303.0458   </td><td>  319.8205   </td><td>0.7410579    </td></tr>\n",
       "\t<tr><td>Square Root  </td><td> 1196.3180   </td><td> 1213.0928   </td><td>0.8568194    </td></tr>\n",
       "\t<tr><td>Inverse      </td><td>-1428.1711   </td><td>-1411.3964   </td><td>0.2489067    </td></tr>\n",
       "</tbody>\n",
       "</table>\n"
      ],
      "text/latex": [
       "\\begin{tabular}{r|llll}\n",
       " Model & AIC & BIC & R\\_squared\\\\\n",
       "\\hline\n",
       "\t Full          &  2681.9772    &  2698.7520    & 0.7527409    \\\\\n",
       "\t Dropped Width &  2680.6546    &  2694.6336    & 0.7513528    \\\\\n",
       "\t Interaction   &  2591.8068    &  2614.1731    & 0.8864585    \\\\\n",
       "\t Log           &   303.0458    &   319.8205    & 0.7410579    \\\\\n",
       "\t Square Root   &  1196.3180    &  1213.0928    & 0.8568194    \\\\\n",
       "\t Inverse       & -1428.1711    & -1411.3964    & 0.2489067    \\\\\n",
       "\\end{tabular}\n"
      ],
      "text/markdown": [
       "\n",
       "| Model | AIC | BIC | R_squared |\n",
       "|---|---|---|---|\n",
       "| Full          |  2681.9772    |  2698.7520    | 0.7527409     |\n",
       "| Dropped Width |  2680.6546    |  2694.6336    | 0.7513528     |\n",
       "| Interaction   |  2591.8068    |  2614.1731    | 0.8864585     |\n",
       "| Log           |   303.0458    |   319.8205    | 0.7410579     |\n",
       "| Square Root   |  1196.3180    |  1213.0928    | 0.8568194     |\n",
       "| Inverse       | -1428.1711    | -1411.3964    | 0.2489067     |\n",
       "\n"
      ],
      "text/plain": [
       "  Model         AIC        BIC        R_squared\n",
       "1 Full           2681.9772  2698.7520 0.7527409\n",
       "2 Dropped Width  2680.6546  2694.6336 0.7513528\n",
       "3 Interaction    2591.8068  2614.1731 0.8864585\n",
       "4 Log             303.0458   319.8205 0.7410579\n",
       "5 Square Root    1196.3180  1213.0928 0.8568194\n",
       "6 Inverse       -1428.1711 -1411.3964 0.2489067"
      ]
     },
     "metadata": {},
     "output_type": "display_data"
    }
   ],
   "source": [
    "# Create a list for the models\n",
    "models <- list(mlr, mlr_dropped, mlr_interaction, mlr_log, mlr_sqrt, mlr_inv)\n",
    "\n",
    "# Since some of the models are not nested, we will use AIC and BIC to compare them\n",
    "aic_models <- sapply(models, AIC)\n",
    "bic_models <- sapply(models, BIC)\n",
    "\n",
    "# Extract R-squared values\n",
    "r_squared <- sapply(models, function(x) summary(x)$r.squared)\n",
    "\n",
    "# Combine the results into a data frame\n",
    "results <- data.frame(Model = c(\"Full\", \"Dropped Width\", \"Interaction\", \"Log\", \"Square Root\", \"Inverse\"), AIC = aic_models, BIC = bic_models, R_squared = r_squared)\n",
    "results"
   ]
  },
  {
   "cell_type": "markdown",
   "id": "75fdddd5",
   "metadata": {},
   "source": [
    "## 5.3 Model Evaluation\n",
    "We first remove the `Log` and `Inverse` models since they have relatively low R-squared values and focus on the remaining models.\n",
    "\n",
    "1. Full Model  \n",
    "It is a fairly good fit but outperformed by other models.\n",
    "\n",
    "2. Model with predictor `Width` dropped  \n",
    "Trade-off in complexity for marginal improvement in AIC (has a slightly lower AIC score than `Full Model` but slightly worse fit).\n",
    "\n",
    "3. Model with interaction terms  \n",
    "Has the highest R-squared and better AIC compared to the `Full Model`.\n",
    "\n",
    "4. `Square Root` model  \n",
    "Strong fit, lower complexity penalty in BIC than `Interaction Model`, but slightly lower R-squared."
   ]
  },
  {
   "cell_type": "markdown",
   "id": "d71e6200",
   "metadata": {
    "vscode": {
     "languageId": "r"
    }
   },
   "source": [
    "# 6. Prediction\n",
    "We use the original model $$ \\text{aadt} = \\beta_0 + \\beta_1 \\text{Population} + \\beta_2 \\text{Lanes} + \\beta_3 \\text{Width} + \\beta_4 \\text{Control} $$ given the values for the predictors `Population`, `Lanes`, `Width`, and `Control` are 50000, 3, 60, and 0 respectively."
   ]
  },
  {
   "cell_type": "code",
   "execution_count": 53,
   "id": "044b244d",
   "metadata": {
    "vscode": {
     "languageId": "r"
    }
   },
   "outputs": [
    {
     "data": {
      "text/html": [
       "35142.7803969098"
      ],
      "text/latex": [
       "35142.7803969098"
      ],
      "text/markdown": [
       "35142.7803969098"
      ],
      "text/plain": [
       "[1] 35142.78"
      ]
     },
     "metadata": {},
     "output_type": "display_data"
    }
   ],
   "source": [
    "# Given population, lanes, width, and control, predict the AADT\n",
    "# Population = 50000, Lanes = 3, Width = 60, Control = 0\n",
    "\n",
    "# Create the vector\n",
    "con <- c(0, 50000, 3, 60, 0)\n",
    "lhat <- sum(coef(mlr) * con)\n",
    "lhat"
   ]
  },
  {
   "cell_type": "code",
   "execution_count": 54,
   "id": "1ac1e16a-91bc-49c7-bf7b-11fdcebdf411",
   "metadata": {
    "vscode": {
     "languageId": "r"
    }
   },
   "outputs": [
    {
     "name": "stdout",
     "output_type": "stream",
     "text": [
      "[1] 18909.62 51375.94\n"
     ]
    }
   ],
   "source": [
    "t05 <- qt(0.975, df = 117)\n",
    "bm <- t05 * summary(mlr)$sigma * sqrt(con %*% summary(mlr)$cov.unscaled %*% con)\n",
    "conf_int <- c(lhat - bm, lhat + bm)\n",
    "print(conf_int)"
   ]
  },
  {
   "cell_type": "code",
   "execution_count": 55,
   "id": "d91a2fb8",
   "metadata": {
    "vscode": {
     "languageId": "r"
    }
   },
   "outputs": [
    {
     "name": "stdout",
     "output_type": "stream",
     "text": [
      "      fit      lwr      upr\n",
      "1 32717.3 21184.12 44250.48\n"
     ]
    }
   ],
   "source": [
    "# Create a data frame for the predictions\n",
    "con_df <- data.frame(Population = 50000, Lanes = 3, Width = 60, Control = 0)\n",
    "\n",
    "# Predict with confidence interval\n",
    "conf_pred <- predict(mlr, con_df, interval = \"confidence\", level = 0.95)\n",
    "print(conf_pred)"
   ]
  },
  {
   "cell_type": "code",
   "execution_count": 56,
   "id": "c1f88465",
   "metadata": {
    "vscode": {
     "languageId": "r"
    }
   },
   "outputs": [
    {
     "name": "stdout",
     "output_type": "stream",
     "text": [
      "      fit      lwr      upr\n",
      "1 32717.3 306.8881 65127.71\n"
     ]
    }
   ],
   "source": [
    "# Predict with prediction interval\n",
    "pred_interval <- predict(mlr, con_df, interval = \"prediction\", level = 0.95)\n",
    "print(pred_interval)"
   ]
  }
 ],
 "metadata": {
  "kernelspec": {
   "display_name": "R [conda env:base] *",
   "language": "R",
   "name": "conda-base-r"
  },
  "language_info": {
   "codemirror_mode": "r",
   "file_extension": ".r",
   "mimetype": "text/x-r-source",
   "name": "R",
   "pygments_lexer": "r",
   "version": "3.6.1"
  }
 },
 "nbformat": 4,
 "nbformat_minor": 5
}
